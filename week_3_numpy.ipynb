{
  "nbformat": 4,
  "nbformat_minor": 0,
  "metadata": {
    "colab": {
      "provenance": []
    },
    "kernelspec": {
      "name": "python3",
      "display_name": "Python 3"
    },
    "language_info": {
      "name": "python"
    }
  },
  "cells": [
    {
      "cell_type": "code",
      "execution_count": 4,
      "metadata": {
        "id": "hpQl-3eFcVaS"
      },
      "outputs": [],
      "source": [
        "import numpy as np"
      ]
    },
    {
      "cell_type": "code",
      "source": [
        "arr = np.array([1,2,3,4,5]) #1-d array\n",
        "arr"
      ],
      "metadata": {
        "colab": {
          "base_uri": "https://localhost:8080/"
        },
        "id": "z002Fr5g8Q33",
        "outputId": "cc9c923e-54f7-4396-a5d0-11da6cdbbab5"
      },
      "execution_count": null,
      "outputs": [
        {
          "output_type": "execute_result",
          "data": {
            "text/plain": [
              "array([1, 2, 3, 4, 5])"
            ]
          },
          "metadata": {},
          "execution_count": 4
        }
      ]
    },
    {
      "cell_type": "code",
      "source": [
        "arr = np.array([[1,2,3,4],[5,6,7,8]]) #2-d array\n",
        "print(arr)\n",
        "print(arr.ndim) #printing no.of dimensions"
      ],
      "metadata": {
        "colab": {
          "base_uri": "https://localhost:8080/"
        },
        "id": "e_UhdLMw8lWg",
        "outputId": "4ca14a2c-2d6e-4ca4-a0b2-a17b82a0d60e"
      },
      "execution_count": null,
      "outputs": [
        {
          "output_type": "stream",
          "name": "stdout",
          "text": [
            "[[1 2 3 4]\n",
            " [5 6 7 8]]\n",
            "2\n"
          ]
        }
      ]
    },
    {
      "cell_type": "code",
      "source": [
        "arr = np.array([[[1,2,3,4],[5,6,7,8],[1,2,3,4]]]) #3-d array\n",
        "print(arr)\n",
        "print(arr.ndim)"
      ],
      "metadata": {
        "colab": {
          "base_uri": "https://localhost:8080/"
        },
        "id": "HiKosJTu871z",
        "outputId": "3ca8f5b3-bec3-4150-96fc-6f3f0eea28b2"
      },
      "execution_count": null,
      "outputs": [
        {
          "output_type": "stream",
          "name": "stdout",
          "text": [
            "[[[1 2 3 4]\n",
            "  [5 6 7 8]\n",
            "  [1 2 3 4]]]\n",
            "3\n"
          ]
        }
      ]
    },
    {
      "cell_type": "code",
      "source": [
        "arr = np.array([1,2,3,4]) \n",
        "print(arr[3])"
      ],
      "metadata": {
        "colab": {
          "base_uri": "https://localhost:8080/"
        },
        "id": "CNaYmoo69RPn",
        "outputId": "7677b906-faab-4758-a4b1-bdd15eecf806"
      },
      "execution_count": null,
      "outputs": [
        {
          "output_type": "stream",
          "name": "stdout",
          "text": [
            "4\n"
          ]
        }
      ]
    },
    {
      "cell_type": "code",
      "source": [
        "arr = np.array([1,2,3,4]) \n",
        "print(arr[3]+arr[1])"
      ],
      "metadata": {
        "colab": {
          "base_uri": "https://localhost:8080/"
        },
        "id": "2SBDoT8h9pjl",
        "outputId": "f7b04d06-c7c6-4319-c5ca-b64165849c1e"
      },
      "execution_count": null,
      "outputs": [
        {
          "output_type": "stream",
          "name": "stdout",
          "text": [
            "6\n"
          ]
        }
      ]
    },
    {
      "cell_type": "code",
      "source": [
        "arr = np.array([[1,2,3,4],[5,6,7,8]]) #2-d array position of element\n",
        "print(arr[0,1])"
      ],
      "metadata": {
        "colab": {
          "base_uri": "https://localhost:8080/"
        },
        "id": "MSN40BfR9uNv",
        "outputId": "6dfa2959-4634-4e34-c62b-0a397079a23a"
      },
      "execution_count": null,
      "outputs": [
        {
          "output_type": "stream",
          "name": "stdout",
          "text": [
            "2\n"
          ]
        }
      ]
    },
    {
      "cell_type": "code",
      "source": [
        "arr = np.array([[[1, 2, 3], [4, 5, 6]], [[7, 8, 9], [10, 11, 12]]]) #3-d array position of element\n",
        "print(arr[0,1,2])"
      ],
      "metadata": {
        "colab": {
          "base_uri": "https://localhost:8080/"
        },
        "id": "4ixd7aOl-Cla",
        "outputId": "77675366-e78b-440d-ce9e-32535ddde801"
      },
      "execution_count": null,
      "outputs": [
        {
          "output_type": "stream",
          "name": "stdout",
          "text": [
            "6\n"
          ]
        }
      ]
    },
    {
      "cell_type": "code",
      "source": [
        "arr = np.array([[1,2,3,4],[5,6,7,8],[22,33,44,55]]) #Print the last element from the 2nd dim:\n",
        "print(arr[1,-1])\n",
        "print(arr)"
      ],
      "metadata": {
        "colab": {
          "base_uri": "https://localhost:8080/"
        },
        "id": "hfaPt385-TcA",
        "outputId": "56e21137-2fa1-4604-a3c6-c6b8bb1077eb"
      },
      "execution_count": null,
      "outputs": [
        {
          "output_type": "stream",
          "name": "stdout",
          "text": [
            "8\n",
            "[[ 1  2  3  4]\n",
            " [ 5  6  7  8]\n",
            " [22 33 44 55]]\n"
          ]
        }
      ]
    },
    {
      "cell_type": "code",
      "source": [
        "# Flattening the arrays (Converting a multidimensional array into a 1D array)\n",
        "arr = np.array([[1, 2, 3], [4, 5, 6]])\n",
        "newarr = arr.reshape(-1)\n",
        "print(newarr)\n",
        "print(newarr.ndim)\n",
        "print(newarr.shape)"
      ],
      "metadata": {
        "colab": {
          "base_uri": "https://localhost:8080/"
        },
        "id": "zXEcnR-gWAFl",
        "outputId": "bb356172-b087-4953-e944-8f3b86860027"
      },
      "execution_count": 10,
      "outputs": [
        {
          "output_type": "stream",
          "name": "stdout",
          "text": [
            "[1 2 3 4 5 6]\n",
            "1\n",
            "(6,)\n"
          ]
        }
      ]
    },
    {
      "cell_type": "code",
      "source": [
        "# Mean, Median and Standard deviation\n",
        "a = np.arange(5,50,2)\n",
        "print(a)\n",
        "print('Mean :',np.mean(a))\n",
        "print('Standard deviation :',np.std(a))\n",
        "print('Median :',np.median(a))\n",
        "\n",
        "# minimum along a column\n",
        "print('Min :',np.min(a))\n",
        "# maximum along a row\n",
        "print('Max :',np.max(a))"
      ],
      "metadata": {
        "colab": {
          "base_uri": "https://localhost:8080/"
        },
        "id": "2ZPIchx8VjxY",
        "outputId": "b9658d5b-a072-491e-a890-35d5c89618a8"
      },
      "execution_count": 5,
      "outputs": [
        {
          "output_type": "stream",
          "name": "stdout",
          "text": [
            "[ 5  7  9 11 13 15 17 19 21 23 25 27 29 31 33 35 37 39 41 43 45 47 49]\n",
            "Mean : 27.0\n",
            "Standard deviation : 13.2664991614216\n",
            "Median : 27.0\n",
            "Min : 5\n",
            "Max : 49\n"
          ]
        }
      ]
    },
    {
      "cell_type": "code",
      "source": [
        "# Array Arithmetic\n",
        "a = np.array([[3, 2, 4], [5, 0, 1], [2, 5, 8]])\n",
        "b = np.array([[1, 0, 5], [2, 3, 7], [6, 4, 5]])\n",
        "\n",
        "print(a+2)\n",
        "print(a-1)\n",
        "print(a*5)\n",
        "print(a/2)\n",
        "\n",
        "c = a + b\n",
        "print(c)\n",
        "\n",
        "d = a - b\n",
        "print(d)\n",
        "\n",
        "e = a * b\n",
        "print(e)"
      ],
      "metadata": {
        "colab": {
          "base_uri": "https://localhost:8080/"
        },
        "id": "7utOuV2yVrYX",
        "outputId": "fd9c603c-43fc-4851-8c39-c44567bf3f45"
      },
      "execution_count": 6,
      "outputs": [
        {
          "output_type": "stream",
          "name": "stdout",
          "text": [
            "[[ 5  4  6]\n",
            " [ 7  2  3]\n",
            " [ 4  7 10]]\n",
            "[[ 2  1  3]\n",
            " [ 4 -1  0]\n",
            " [ 1  4  7]]\n",
            "[[15 10 20]\n",
            " [25  0  5]\n",
            " [10 25 40]]\n",
            "[[1.5 1.  2. ]\n",
            " [2.5 0.  0.5]\n",
            " [1.  2.5 4. ]]\n",
            "[[ 4  2  9]\n",
            " [ 7  3  8]\n",
            " [ 8  9 13]]\n",
            "[[ 2  2 -1]\n",
            " [ 3 -3 -6]\n",
            " [-4  1  3]]\n",
            "[[ 3  0 20]\n",
            " [10  0  7]\n",
            " [12 20 40]]\n"
          ]
        }
      ]
    },
    {
      "cell_type": "code",
      "source": [
        "# NumPy Random\n",
        "from numpy import random\n",
        "\n",
        "x = random.randint(100)\n",
        "print(x)\n",
        "\n",
        "x1 = random.rand()\n",
        "print(x1)\n",
        "\n",
        "x2 = random.randint(100, size=(3, 5))\n",
        "print(x2)\n",
        "\n",
        "x3 = random.rand(3, 5)\n",
        "print(x3)\n"
      ],
      "metadata": {
        "colab": {
          "base_uri": "https://localhost:8080/"
        },
        "id": "IqaNFKJCVxqb",
        "outputId": "4e262805-8c0d-45e6-8a9d-57a383975805"
      },
      "execution_count": 7,
      "outputs": [
        {
          "output_type": "stream",
          "name": "stdout",
          "text": [
            "82\n",
            "0.46079319869293656\n",
            "[[35 12 25 45 55]\n",
            " [82  6 30 47 17]\n",
            " [72 97  6 20 18]]\n",
            "[[0.81010767 0.82119253 0.35852605 0.57937358 0.16551026]\n",
            " [0.8444953  0.59800698 0.81890653 0.99108394 0.89860612]\n",
            " [0.10701536 0.84076022 0.94278181 0.54085686 0.87980646]]\n"
          ]
        }
      ]
    },
    {
      "cell_type": "code",
      "source": [
        "# Join two arrays\n",
        "\n",
        "arr1 = np.array([1, 2, 3])\n",
        "arr2 = np.array([4, 5, 6])\n",
        "arr = np.concatenate((arr1, arr2))\n",
        "print(arr)"
      ],
      "metadata": {
        "colab": {
          "base_uri": "https://localhost:8080/"
        },
        "id": "1z2mVTwBV6O6",
        "outputId": "0bb742f2-9a60-4c84-ad1b-6202c3047bf3"
      },
      "execution_count": 8,
      "outputs": [
        {
          "output_type": "stream",
          "name": "stdout",
          "text": [
            "[1 2 3 4 5 6]\n"
          ]
        }
      ]
    },
    {
      "cell_type": "code",
      "source": [
        "# Join two 2-D arrays along rows (axis=1)\n",
        "arr1 = np.array([[1, 2], [3, 4]])\n",
        "arr2 = np.array([[5, 6], [7, 8]])\n",
        "arr = np.concatenate((arr1, arr2), axis=1)\n",
        "print(arr)"
      ],
      "metadata": {
        "colab": {
          "base_uri": "https://localhost:8080/"
        },
        "id": "OAGmdYbHV8_K",
        "outputId": "7e5adc32-56a9-4260-a98c-02c0f5fbd5cb"
      },
      "execution_count": 9,
      "outputs": [
        {
          "output_type": "stream",
          "name": "stdout",
          "text": [
            "[[1 2 5 6]\n",
            " [3 4 7 8]]\n"
          ]
        }
      ]
    },
    {
      "cell_type": "code",
      "source": [
        "# Random Distribution\n",
        "from numpy import random\n",
        "x = random.choice([3, 5, 7, 9], p=[0.1, 0.3, 0.6, 0.0], size=(100))\n",
        "print(x)\n",
        "\n",
        "y = random.choice([3, 5, 7, 9], p=[0.1, 0.3, 0.6, 0.0], size=(3, 5))\n",
        "print(y)"
      ],
      "metadata": {
        "id": "Sj9Okx4M_Oy5",
        "colab": {
          "base_uri": "https://localhost:8080/"
        },
        "outputId": "297e80f1-1612-49ed-835f-aec711b7dfd2"
      },
      "execution_count": 1,
      "outputs": [
        {
          "output_type": "stream",
          "name": "stdout",
          "text": [
            "[7 5 7 5 5 7 7 3 7 7 7 5 7 7 5 7 7 5 5 7 7 5 7 7 5 7 7 7 7 7 7 7 7 7 5 5 5\n",
            " 7 5 5 3 5 5 3 5 5 5 3 5 7 7 5 7 7 5 7 5 5 7 5 7 5 3 7 7 7 7 7 3 7 3 7 7 7\n",
            " 5 7 7 7 7 5 7 7 5 5 5 5 5 5 7 7 5 3 5 7 7 5 5 7 7 7]\n",
            "[[5 5 7 5 5]\n",
            " [3 7 5 7 7]\n",
            " [7 5 3 7 7]]\n"
          ]
        }
      ]
    },
    {
      "cell_type": "code",
      "source": [
        "x = random.normal(size=(2, 3))\n",
        "print(x)\n",
        "\n",
        "y = random.normal(loc=1, scale=2, size=(2, 3))\n",
        "print(y)"
      ],
      "metadata": {
        "colab": {
          "base_uri": "https://localhost:8080/"
        },
        "id": "jkU95f_SVgPH",
        "outputId": "831381aa-8417-4229-9d19-dd22e57439fd"
      },
      "execution_count": 2,
      "outputs": [
        {
          "output_type": "stream",
          "name": "stdout",
          "text": [
            "[[ 1.03224247 -0.36850692  0.21793902]\n",
            " [ 0.78810504 -1.14418659  0.09003275]]\n",
            "[[ 3.77557279  4.1277657  -0.42730869]\n",
            " [ 0.3731885   1.81272221  1.89601246]]\n"
          ]
        }
      ]
    }
  ]
}