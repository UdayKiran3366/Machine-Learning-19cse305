{
  "nbformat": 4,
  "nbformat_minor": 0,
  "metadata": {
    "colab": {
      "provenance": [],
      "mount_file_id": "13KT-AHQJhwOyxSAICAkZ0NMnGYx0mMqf",
      "authorship_tag": "ABX9TyN29C3ULp2Jw24K+xErr5cE",
      "include_colab_link": true
    },
    "kernelspec": {
      "name": "python3",
      "display_name": "Python 3"
    },
    "language_info": {
      "name": "python"
    }
  },
  "cells": [
    {
      "cell_type": "markdown",
      "metadata": {
        "id": "view-in-github",
        "colab_type": "text"
      },
      "source": [
        "<a href=\"https://colab.research.google.com/github/UdayKiran3366/Machine-Learning-19cse305/blob/main/week_10_Google_playstore_reviews_exercise.ipynb\" target=\"_parent\"><img src=\"https://colab.research.google.com/assets/colab-badge.svg\" alt=\"Open In Colab\"/></a>"
      ]
    },
    {
      "cell_type": "code",
      "execution_count": 1,
      "metadata": {
        "id": "g8SpI0LMdIed"
      },
      "outputs": [],
      "source": [
        "import pandas as pd"
      ]
    },
    {
      "cell_type": "code",
      "source": [
        "df=pd.read_csv(\"/content/drive/MyDrive/datasets/google_play_store_apps_reviews_training.csv\")\n",
        "df.head(50)"
      ],
      "metadata": {
        "colab": {
          "base_uri": "https://localhost:8080/",
          "height": 1000
        },
        "id": "4X4Be6mFdMJT",
        "outputId": "a2cc8f1d-c527-4991-92d9-cbf17848c841"
      },
      "execution_count": 19,
      "outputs": [
        {
          "output_type": "execute_result",
          "data": {
            "text/plain": [
              "           package_name                                             review  \\\n",
              "0   com.facebook.katana   privacy at least put some option appear offli...   \n",
              "1   com.facebook.katana   messenger issues ever since the last update, ...   \n",
              "2   com.facebook.katana   profile any time my wife or anybody has more ...   \n",
              "3   com.facebook.katana   the new features suck for those of us who don...   \n",
              "4   com.facebook.katana   forced reload on uploading pic on replying co...   \n",
              "5   com.facebook.katana   idk i can't edit my posts? things such as my ...   \n",
              "6   com.facebook.katana   major flaws constant updates and always getti...   \n",
              "7   com.facebook.katana   video issues since i was forced into this upd...   \n",
              "8   com.facebook.katana    this update completely destroyed my facebook...   \n",
              "9   com.facebook.katana   posting issues for the last week, there's bee...   \n",
              "10  com.facebook.katana   what the heck?! can't get status updates to b...   \n",
              "11  com.facebook.katana   its suck. any time when i want to see somethi...   \n",
              "12  com.facebook.katana   connection issues everytime i try and click o...   \n",
              "13  com.facebook.katana   external links are not working after updated ...   \n",
              "14  com.facebook.katana   fix this please... i've tried editing two of ...   \n",
              "15  com.facebook.katana   buggy when i edit a post through the mobile a...   \n",
              "16  com.facebook.katana   connection issues app always says can't refre...   \n",
              "17  com.facebook.katana   i can't get back on facebook it's my email th...   \n",
              "18  com.facebook.katana   can't connect right now when trying to open l...   \n",
              "19  com.facebook.katana   error i cannot edit my post with pictures. th...   \n",
              "20  com.facebook.katana    whenever i post an update and then try to ed...   \n",
              "21  com.facebook.katana   keeps updating updates all the time, slows my...   \n",
              "22  com.facebook.katana   won't load everytime i try to use facebook, w...   \n",
              "23  com.facebook.katana    i wish posts popped up in the order they wer...   \n",
              "24  com.facebook.katana   buggy. reinstall several times. issues editin...   \n",
              "25  com.facebook.katana   can't install (error code: -505) have samsung...   \n",
              "26  com.facebook.katana   not supported my phon galaxy core i have been...   \n",
              "27  com.facebook.katana   doesn't work 90% of the time. doesn't update ...   \n",
              "28  com.facebook.katana   you should fix this it does'nt work anymore. ...   \n",
              "29  com.facebook.katana   doesn't let me click into anything always tel...   \n",
              "30  com.facebook.katana   doesn't work every time i try to sign up it s...   \n",
              "31  com.facebook.katana   showing old news why is it showing that someo...   \n",
              "32  com.facebook.katana    i have had to uninstall this app twice this ...   \n",
              "33  com.facebook.katana   profile issues samsung galaxy s4 active: so e...   \n",
              "34  com.facebook.katana   camera roll please can you stop the camera ro...   \n",
              "35  com.facebook.katana   not good its previous version (12.0.0.15.14) ...   \n",
              "36  com.facebook.katana   update uninstalls! everytime i try to update ...   \n",
              "37  com.facebook.katana   used to be good everything was great, until i...   \n",
              "38  com.facebook.katana    i can't send or read a message from facebook...   \n",
              "39  com.facebook.katana   app doesn't work after latest upgrade the fac...   \n",
              "40  com.twitter.android   ⭐⭐⭐ when will this app be created to automati...   \n",
              "41  com.twitter.android   error i can't log in, its says error occured ...   \n",
              "42  com.twitter.android   video issues sometimes videos uploaded from p...   \n",
              "43  com.twitter.android    i enjoy twitter but i'm extremely annoyed th...   \n",
              "44  com.twitter.android   having a headache because of this enough with...   \n",
              "45  com.twitter.android   fix it dammit! why is my push notifications n...   \n",
              "46  com.twitter.android   we have a problem. so i've noticed that twitt...   \n",
              "47  com.twitter.android   came here to rate this app to give 5 stars fo...   \n",
              "48  com.twitter.android    i don't get notifications from people anymor...   \n",
              "49  com.twitter.android   the new update sucks i hate that they switche...   \n",
              "\n",
              "    polarity  \n",
              "0          0  \n",
              "1          0  \n",
              "2          0  \n",
              "3          0  \n",
              "4          0  \n",
              "5          0  \n",
              "6          0  \n",
              "7          0  \n",
              "8          0  \n",
              "9          0  \n",
              "10         0  \n",
              "11         0  \n",
              "12         0  \n",
              "13         0  \n",
              "14         0  \n",
              "15         0  \n",
              "16         0  \n",
              "17         0  \n",
              "18         0  \n",
              "19         0  \n",
              "20         0  \n",
              "21         0  \n",
              "22         0  \n",
              "23         0  \n",
              "24         0  \n",
              "25         0  \n",
              "26         0  \n",
              "27         0  \n",
              "28         0  \n",
              "29         0  \n",
              "30         0  \n",
              "31         0  \n",
              "32         0  \n",
              "33         0  \n",
              "34         0  \n",
              "35         0  \n",
              "36         0  \n",
              "37         0  \n",
              "38         0  \n",
              "39         0  \n",
              "40         0  \n",
              "41         0  \n",
              "42         0  \n",
              "43         0  \n",
              "44         0  \n",
              "45         0  \n",
              "46         0  \n",
              "47         0  \n",
              "48         0  \n",
              "49         0  "
            ],
            "text/html": [
              "\n",
              "  <div id=\"df-9b4619fe-ba4e-402e-a18e-43de0b7986b1\">\n",
              "    <div class=\"colab-df-container\">\n",
              "      <div>\n",
              "<style scoped>\n",
              "    .dataframe tbody tr th:only-of-type {\n",
              "        vertical-align: middle;\n",
              "    }\n",
              "\n",
              "    .dataframe tbody tr th {\n",
              "        vertical-align: top;\n",
              "    }\n",
              "\n",
              "    .dataframe thead th {\n",
              "        text-align: right;\n",
              "    }\n",
              "</style>\n",
              "<table border=\"1\" class=\"dataframe\">\n",
              "  <thead>\n",
              "    <tr style=\"text-align: right;\">\n",
              "      <th></th>\n",
              "      <th>package_name</th>\n",
              "      <th>review</th>\n",
              "      <th>polarity</th>\n",
              "    </tr>\n",
              "  </thead>\n",
              "  <tbody>\n",
              "    <tr>\n",
              "      <th>0</th>\n",
              "      <td>com.facebook.katana</td>\n",
              "      <td>privacy at least put some option appear offli...</td>\n",
              "      <td>0</td>\n",
              "    </tr>\n",
              "    <tr>\n",
              "      <th>1</th>\n",
              "      <td>com.facebook.katana</td>\n",
              "      <td>messenger issues ever since the last update, ...</td>\n",
              "      <td>0</td>\n",
              "    </tr>\n",
              "    <tr>\n",
              "      <th>2</th>\n",
              "      <td>com.facebook.katana</td>\n",
              "      <td>profile any time my wife or anybody has more ...</td>\n",
              "      <td>0</td>\n",
              "    </tr>\n",
              "    <tr>\n",
              "      <th>3</th>\n",
              "      <td>com.facebook.katana</td>\n",
              "      <td>the new features suck for those of us who don...</td>\n",
              "      <td>0</td>\n",
              "    </tr>\n",
              "    <tr>\n",
              "      <th>4</th>\n",
              "      <td>com.facebook.katana</td>\n",
              "      <td>forced reload on uploading pic on replying co...</td>\n",
              "      <td>0</td>\n",
              "    </tr>\n",
              "    <tr>\n",
              "      <th>5</th>\n",
              "      <td>com.facebook.katana</td>\n",
              "      <td>idk i can't edit my posts? things such as my ...</td>\n",
              "      <td>0</td>\n",
              "    </tr>\n",
              "    <tr>\n",
              "      <th>6</th>\n",
              "      <td>com.facebook.katana</td>\n",
              "      <td>major flaws constant updates and always getti...</td>\n",
              "      <td>0</td>\n",
              "    </tr>\n",
              "    <tr>\n",
              "      <th>7</th>\n",
              "      <td>com.facebook.katana</td>\n",
              "      <td>video issues since i was forced into this upd...</td>\n",
              "      <td>0</td>\n",
              "    </tr>\n",
              "    <tr>\n",
              "      <th>8</th>\n",
              "      <td>com.facebook.katana</td>\n",
              "      <td>this update completely destroyed my facebook...</td>\n",
              "      <td>0</td>\n",
              "    </tr>\n",
              "    <tr>\n",
              "      <th>9</th>\n",
              "      <td>com.facebook.katana</td>\n",
              "      <td>posting issues for the last week, there's bee...</td>\n",
              "      <td>0</td>\n",
              "    </tr>\n",
              "    <tr>\n",
              "      <th>10</th>\n",
              "      <td>com.facebook.katana</td>\n",
              "      <td>what the heck?! can't get status updates to b...</td>\n",
              "      <td>0</td>\n",
              "    </tr>\n",
              "    <tr>\n",
              "      <th>11</th>\n",
              "      <td>com.facebook.katana</td>\n",
              "      <td>its suck. any time when i want to see somethi...</td>\n",
              "      <td>0</td>\n",
              "    </tr>\n",
              "    <tr>\n",
              "      <th>12</th>\n",
              "      <td>com.facebook.katana</td>\n",
              "      <td>connection issues everytime i try and click o...</td>\n",
              "      <td>0</td>\n",
              "    </tr>\n",
              "    <tr>\n",
              "      <th>13</th>\n",
              "      <td>com.facebook.katana</td>\n",
              "      <td>external links are not working after updated ...</td>\n",
              "      <td>0</td>\n",
              "    </tr>\n",
              "    <tr>\n",
              "      <th>14</th>\n",
              "      <td>com.facebook.katana</td>\n",
              "      <td>fix this please... i've tried editing two of ...</td>\n",
              "      <td>0</td>\n",
              "    </tr>\n",
              "    <tr>\n",
              "      <th>15</th>\n",
              "      <td>com.facebook.katana</td>\n",
              "      <td>buggy when i edit a post through the mobile a...</td>\n",
              "      <td>0</td>\n",
              "    </tr>\n",
              "    <tr>\n",
              "      <th>16</th>\n",
              "      <td>com.facebook.katana</td>\n",
              "      <td>connection issues app always says can't refre...</td>\n",
              "      <td>0</td>\n",
              "    </tr>\n",
              "    <tr>\n",
              "      <th>17</th>\n",
              "      <td>com.facebook.katana</td>\n",
              "      <td>i can't get back on facebook it's my email th...</td>\n",
              "      <td>0</td>\n",
              "    </tr>\n",
              "    <tr>\n",
              "      <th>18</th>\n",
              "      <td>com.facebook.katana</td>\n",
              "      <td>can't connect right now when trying to open l...</td>\n",
              "      <td>0</td>\n",
              "    </tr>\n",
              "    <tr>\n",
              "      <th>19</th>\n",
              "      <td>com.facebook.katana</td>\n",
              "      <td>error i cannot edit my post with pictures. th...</td>\n",
              "      <td>0</td>\n",
              "    </tr>\n",
              "    <tr>\n",
              "      <th>20</th>\n",
              "      <td>com.facebook.katana</td>\n",
              "      <td>whenever i post an update and then try to ed...</td>\n",
              "      <td>0</td>\n",
              "    </tr>\n",
              "    <tr>\n",
              "      <th>21</th>\n",
              "      <td>com.facebook.katana</td>\n",
              "      <td>keeps updating updates all the time, slows my...</td>\n",
              "      <td>0</td>\n",
              "    </tr>\n",
              "    <tr>\n",
              "      <th>22</th>\n",
              "      <td>com.facebook.katana</td>\n",
              "      <td>won't load everytime i try to use facebook, w...</td>\n",
              "      <td>0</td>\n",
              "    </tr>\n",
              "    <tr>\n",
              "      <th>23</th>\n",
              "      <td>com.facebook.katana</td>\n",
              "      <td>i wish posts popped up in the order they wer...</td>\n",
              "      <td>0</td>\n",
              "    </tr>\n",
              "    <tr>\n",
              "      <th>24</th>\n",
              "      <td>com.facebook.katana</td>\n",
              "      <td>buggy. reinstall several times. issues editin...</td>\n",
              "      <td>0</td>\n",
              "    </tr>\n",
              "    <tr>\n",
              "      <th>25</th>\n",
              "      <td>com.facebook.katana</td>\n",
              "      <td>can't install (error code: -505) have samsung...</td>\n",
              "      <td>0</td>\n",
              "    </tr>\n",
              "    <tr>\n",
              "      <th>26</th>\n",
              "      <td>com.facebook.katana</td>\n",
              "      <td>not supported my phon galaxy core i have been...</td>\n",
              "      <td>0</td>\n",
              "    </tr>\n",
              "    <tr>\n",
              "      <th>27</th>\n",
              "      <td>com.facebook.katana</td>\n",
              "      <td>doesn't work 90% of the time. doesn't update ...</td>\n",
              "      <td>0</td>\n",
              "    </tr>\n",
              "    <tr>\n",
              "      <th>28</th>\n",
              "      <td>com.facebook.katana</td>\n",
              "      <td>you should fix this it does'nt work anymore. ...</td>\n",
              "      <td>0</td>\n",
              "    </tr>\n",
              "    <tr>\n",
              "      <th>29</th>\n",
              "      <td>com.facebook.katana</td>\n",
              "      <td>doesn't let me click into anything always tel...</td>\n",
              "      <td>0</td>\n",
              "    </tr>\n",
              "    <tr>\n",
              "      <th>30</th>\n",
              "      <td>com.facebook.katana</td>\n",
              "      <td>doesn't work every time i try to sign up it s...</td>\n",
              "      <td>0</td>\n",
              "    </tr>\n",
              "    <tr>\n",
              "      <th>31</th>\n",
              "      <td>com.facebook.katana</td>\n",
              "      <td>showing old news why is it showing that someo...</td>\n",
              "      <td>0</td>\n",
              "    </tr>\n",
              "    <tr>\n",
              "      <th>32</th>\n",
              "      <td>com.facebook.katana</td>\n",
              "      <td>i have had to uninstall this app twice this ...</td>\n",
              "      <td>0</td>\n",
              "    </tr>\n",
              "    <tr>\n",
              "      <th>33</th>\n",
              "      <td>com.facebook.katana</td>\n",
              "      <td>profile issues samsung galaxy s4 active: so e...</td>\n",
              "      <td>0</td>\n",
              "    </tr>\n",
              "    <tr>\n",
              "      <th>34</th>\n",
              "      <td>com.facebook.katana</td>\n",
              "      <td>camera roll please can you stop the camera ro...</td>\n",
              "      <td>0</td>\n",
              "    </tr>\n",
              "    <tr>\n",
              "      <th>35</th>\n",
              "      <td>com.facebook.katana</td>\n",
              "      <td>not good its previous version (12.0.0.15.14) ...</td>\n",
              "      <td>0</td>\n",
              "    </tr>\n",
              "    <tr>\n",
              "      <th>36</th>\n",
              "      <td>com.facebook.katana</td>\n",
              "      <td>update uninstalls! everytime i try to update ...</td>\n",
              "      <td>0</td>\n",
              "    </tr>\n",
              "    <tr>\n",
              "      <th>37</th>\n",
              "      <td>com.facebook.katana</td>\n",
              "      <td>used to be good everything was great, until i...</td>\n",
              "      <td>0</td>\n",
              "    </tr>\n",
              "    <tr>\n",
              "      <th>38</th>\n",
              "      <td>com.facebook.katana</td>\n",
              "      <td>i can't send or read a message from facebook...</td>\n",
              "      <td>0</td>\n",
              "    </tr>\n",
              "    <tr>\n",
              "      <th>39</th>\n",
              "      <td>com.facebook.katana</td>\n",
              "      <td>app doesn't work after latest upgrade the fac...</td>\n",
              "      <td>0</td>\n",
              "    </tr>\n",
              "    <tr>\n",
              "      <th>40</th>\n",
              "      <td>com.twitter.android</td>\n",
              "      <td>⭐⭐⭐ when will this app be created to automati...</td>\n",
              "      <td>0</td>\n",
              "    </tr>\n",
              "    <tr>\n",
              "      <th>41</th>\n",
              "      <td>com.twitter.android</td>\n",
              "      <td>error i can't log in, its says error occured ...</td>\n",
              "      <td>0</td>\n",
              "    </tr>\n",
              "    <tr>\n",
              "      <th>42</th>\n",
              "      <td>com.twitter.android</td>\n",
              "      <td>video issues sometimes videos uploaded from p...</td>\n",
              "      <td>0</td>\n",
              "    </tr>\n",
              "    <tr>\n",
              "      <th>43</th>\n",
              "      <td>com.twitter.android</td>\n",
              "      <td>i enjoy twitter but i'm extremely annoyed th...</td>\n",
              "      <td>0</td>\n",
              "    </tr>\n",
              "    <tr>\n",
              "      <th>44</th>\n",
              "      <td>com.twitter.android</td>\n",
              "      <td>having a headache because of this enough with...</td>\n",
              "      <td>0</td>\n",
              "    </tr>\n",
              "    <tr>\n",
              "      <th>45</th>\n",
              "      <td>com.twitter.android</td>\n",
              "      <td>fix it dammit! why is my push notifications n...</td>\n",
              "      <td>0</td>\n",
              "    </tr>\n",
              "    <tr>\n",
              "      <th>46</th>\n",
              "      <td>com.twitter.android</td>\n",
              "      <td>we have a problem. so i've noticed that twitt...</td>\n",
              "      <td>0</td>\n",
              "    </tr>\n",
              "    <tr>\n",
              "      <th>47</th>\n",
              "      <td>com.twitter.android</td>\n",
              "      <td>came here to rate this app to give 5 stars fo...</td>\n",
              "      <td>0</td>\n",
              "    </tr>\n",
              "    <tr>\n",
              "      <th>48</th>\n",
              "      <td>com.twitter.android</td>\n",
              "      <td>i don't get notifications from people anymor...</td>\n",
              "      <td>0</td>\n",
              "    </tr>\n",
              "    <tr>\n",
              "      <th>49</th>\n",
              "      <td>com.twitter.android</td>\n",
              "      <td>the new update sucks i hate that they switche...</td>\n",
              "      <td>0</td>\n",
              "    </tr>\n",
              "  </tbody>\n",
              "</table>\n",
              "</div>\n",
              "      <button class=\"colab-df-convert\" onclick=\"convertToInteractive('df-9b4619fe-ba4e-402e-a18e-43de0b7986b1')\"\n",
              "              title=\"Convert this dataframe to an interactive table.\"\n",
              "              style=\"display:none;\">\n",
              "        \n",
              "  <svg xmlns=\"http://www.w3.org/2000/svg\" height=\"24px\"viewBox=\"0 0 24 24\"\n",
              "       width=\"24px\">\n",
              "    <path d=\"M0 0h24v24H0V0z\" fill=\"none\"/>\n",
              "    <path d=\"M18.56 5.44l.94 2.06.94-2.06 2.06-.94-2.06-.94-.94-2.06-.94 2.06-2.06.94zm-11 1L8.5 8.5l.94-2.06 2.06-.94-2.06-.94L8.5 2.5l-.94 2.06-2.06.94zm10 10l.94 2.06.94-2.06 2.06-.94-2.06-.94-.94-2.06-.94 2.06-2.06.94z\"/><path d=\"M17.41 7.96l-1.37-1.37c-.4-.4-.92-.59-1.43-.59-.52 0-1.04.2-1.43.59L10.3 9.45l-7.72 7.72c-.78.78-.78 2.05 0 2.83L4 21.41c.39.39.9.59 1.41.59.51 0 1.02-.2 1.41-.59l7.78-7.78 2.81-2.81c.8-.78.8-2.07 0-2.86zM5.41 20L4 18.59l7.72-7.72 1.47 1.35L5.41 20z\"/>\n",
              "  </svg>\n",
              "      </button>\n",
              "      \n",
              "  <style>\n",
              "    .colab-df-container {\n",
              "      display:flex;\n",
              "      flex-wrap:wrap;\n",
              "      gap: 12px;\n",
              "    }\n",
              "\n",
              "    .colab-df-convert {\n",
              "      background-color: #E8F0FE;\n",
              "      border: none;\n",
              "      border-radius: 50%;\n",
              "      cursor: pointer;\n",
              "      display: none;\n",
              "      fill: #1967D2;\n",
              "      height: 32px;\n",
              "      padding: 0 0 0 0;\n",
              "      width: 32px;\n",
              "    }\n",
              "\n",
              "    .colab-df-convert:hover {\n",
              "      background-color: #E2EBFA;\n",
              "      box-shadow: 0px 1px 2px rgba(60, 64, 67, 0.3), 0px 1px 3px 1px rgba(60, 64, 67, 0.15);\n",
              "      fill: #174EA6;\n",
              "    }\n",
              "\n",
              "    [theme=dark] .colab-df-convert {\n",
              "      background-color: #3B4455;\n",
              "      fill: #D2E3FC;\n",
              "    }\n",
              "\n",
              "    [theme=dark] .colab-df-convert:hover {\n",
              "      background-color: #434B5C;\n",
              "      box-shadow: 0px 1px 3px 1px rgba(0, 0, 0, 0.15);\n",
              "      filter: drop-shadow(0px 1px 2px rgba(0, 0, 0, 0.3));\n",
              "      fill: #FFFFFF;\n",
              "    }\n",
              "  </style>\n",
              "\n",
              "      <script>\n",
              "        const buttonEl =\n",
              "          document.querySelector('#df-9b4619fe-ba4e-402e-a18e-43de0b7986b1 button.colab-df-convert');\n",
              "        buttonEl.style.display =\n",
              "          google.colab.kernel.accessAllowed ? 'block' : 'none';\n",
              "\n",
              "        async function convertToInteractive(key) {\n",
              "          const element = document.querySelector('#df-9b4619fe-ba4e-402e-a18e-43de0b7986b1');\n",
              "          const dataTable =\n",
              "            await google.colab.kernel.invokeFunction('convertToInteractive',\n",
              "                                                     [key], {});\n",
              "          if (!dataTable) return;\n",
              "\n",
              "          const docLinkHtml = 'Like what you see? Visit the ' +\n",
              "            '<a target=\"_blank\" href=https://colab.research.google.com/notebooks/data_table.ipynb>data table notebook</a>'\n",
              "            + ' to learn more about interactive tables.';\n",
              "          element.innerHTML = '';\n",
              "          dataTable['output_type'] = 'display_data';\n",
              "          await google.colab.output.renderOutput(dataTable, element);\n",
              "          const docLink = document.createElement('div');\n",
              "          docLink.innerHTML = docLinkHtml;\n",
              "          element.appendChild(docLink);\n",
              "        }\n",
              "      </script>\n",
              "    </div>\n",
              "  </div>\n",
              "  "
            ]
          },
          "metadata": {},
          "execution_count": 19
        }
      ]
    },
    {
      "cell_type": "code",
      "source": [
        "df.shape"
      ],
      "metadata": {
        "colab": {
          "base_uri": "https://localhost:8080/"
        },
        "id": "hYLXZ1rrdbGv",
        "outputId": "fc4b31e0-afb0-46bf-f534-76c1d60c107e"
      },
      "execution_count": 4,
      "outputs": [
        {
          "output_type": "execute_result",
          "data": {
            "text/plain": [
              "(891, 3)"
            ]
          },
          "metadata": {},
          "execution_count": 4
        }
      ]
    },
    {
      "cell_type": "code",
      "source": [
        "df.groupby(\"polarity\").describe()"
      ],
      "metadata": {
        "colab": {
          "base_uri": "https://localhost:8080/",
          "height": 175
        },
        "id": "L-jlTJGLddV-",
        "outputId": "b2fa45ba-5590-4603-ff82-051606d4d0a8"
      },
      "execution_count": 14,
      "outputs": [
        {
          "output_type": "execute_result",
          "data": {
            "text/plain": [
              "            pos                                   \n",
              "          count mean  std  min  25%  50%  75%  max\n",
              "polarity                                          \n",
              "0         584.0  0.0  0.0  0.0  0.0  0.0  0.0  0.0\n",
              "1         307.0  0.0  0.0  0.0  0.0  0.0  0.0  0.0"
            ],
            "text/html": [
              "\n",
              "  <div id=\"df-e565d3ed-6164-4728-8da0-1c9ea682bf6e\">\n",
              "    <div class=\"colab-df-container\">\n",
              "      <div>\n",
              "<style scoped>\n",
              "    .dataframe tbody tr th:only-of-type {\n",
              "        vertical-align: middle;\n",
              "    }\n",
              "\n",
              "    .dataframe tbody tr th {\n",
              "        vertical-align: top;\n",
              "    }\n",
              "\n",
              "    .dataframe thead tr th {\n",
              "        text-align: left;\n",
              "    }\n",
              "\n",
              "    .dataframe thead tr:last-of-type th {\n",
              "        text-align: right;\n",
              "    }\n",
              "</style>\n",
              "<table border=\"1\" class=\"dataframe\">\n",
              "  <thead>\n",
              "    <tr>\n",
              "      <th></th>\n",
              "      <th colspan=\"8\" halign=\"left\">pos</th>\n",
              "    </tr>\n",
              "    <tr>\n",
              "      <th></th>\n",
              "      <th>count</th>\n",
              "      <th>mean</th>\n",
              "      <th>std</th>\n",
              "      <th>min</th>\n",
              "      <th>25%</th>\n",
              "      <th>50%</th>\n",
              "      <th>75%</th>\n",
              "      <th>max</th>\n",
              "    </tr>\n",
              "    <tr>\n",
              "      <th>polarity</th>\n",
              "      <th></th>\n",
              "      <th></th>\n",
              "      <th></th>\n",
              "      <th></th>\n",
              "      <th></th>\n",
              "      <th></th>\n",
              "      <th></th>\n",
              "      <th></th>\n",
              "    </tr>\n",
              "  </thead>\n",
              "  <tbody>\n",
              "    <tr>\n",
              "      <th>0</th>\n",
              "      <td>584.0</td>\n",
              "      <td>0.0</td>\n",
              "      <td>0.0</td>\n",
              "      <td>0.0</td>\n",
              "      <td>0.0</td>\n",
              "      <td>0.0</td>\n",
              "      <td>0.0</td>\n",
              "      <td>0.0</td>\n",
              "    </tr>\n",
              "    <tr>\n",
              "      <th>1</th>\n",
              "      <td>307.0</td>\n",
              "      <td>0.0</td>\n",
              "      <td>0.0</td>\n",
              "      <td>0.0</td>\n",
              "      <td>0.0</td>\n",
              "      <td>0.0</td>\n",
              "      <td>0.0</td>\n",
              "      <td>0.0</td>\n",
              "    </tr>\n",
              "  </tbody>\n",
              "</table>\n",
              "</div>\n",
              "      <button class=\"colab-df-convert\" onclick=\"convertToInteractive('df-e565d3ed-6164-4728-8da0-1c9ea682bf6e')\"\n",
              "              title=\"Convert this dataframe to an interactive table.\"\n",
              "              style=\"display:none;\">\n",
              "        \n",
              "  <svg xmlns=\"http://www.w3.org/2000/svg\" height=\"24px\"viewBox=\"0 0 24 24\"\n",
              "       width=\"24px\">\n",
              "    <path d=\"M0 0h24v24H0V0z\" fill=\"none\"/>\n",
              "    <path d=\"M18.56 5.44l.94 2.06.94-2.06 2.06-.94-2.06-.94-.94-2.06-.94 2.06-2.06.94zm-11 1L8.5 8.5l.94-2.06 2.06-.94-2.06-.94L8.5 2.5l-.94 2.06-2.06.94zm10 10l.94 2.06.94-2.06 2.06-.94-2.06-.94-.94-2.06-.94 2.06-2.06.94z\"/><path d=\"M17.41 7.96l-1.37-1.37c-.4-.4-.92-.59-1.43-.59-.52 0-1.04.2-1.43.59L10.3 9.45l-7.72 7.72c-.78.78-.78 2.05 0 2.83L4 21.41c.39.39.9.59 1.41.59.51 0 1.02-.2 1.41-.59l7.78-7.78 2.81-2.81c.8-.78.8-2.07 0-2.86zM5.41 20L4 18.59l7.72-7.72 1.47 1.35L5.41 20z\"/>\n",
              "  </svg>\n",
              "      </button>\n",
              "      \n",
              "  <style>\n",
              "    .colab-df-container {\n",
              "      display:flex;\n",
              "      flex-wrap:wrap;\n",
              "      gap: 12px;\n",
              "    }\n",
              "\n",
              "    .colab-df-convert {\n",
              "      background-color: #E8F0FE;\n",
              "      border: none;\n",
              "      border-radius: 50%;\n",
              "      cursor: pointer;\n",
              "      display: none;\n",
              "      fill: #1967D2;\n",
              "      height: 32px;\n",
              "      padding: 0 0 0 0;\n",
              "      width: 32px;\n",
              "    }\n",
              "\n",
              "    .colab-df-convert:hover {\n",
              "      background-color: #E2EBFA;\n",
              "      box-shadow: 0px 1px 2px rgba(60, 64, 67, 0.3), 0px 1px 3px 1px rgba(60, 64, 67, 0.15);\n",
              "      fill: #174EA6;\n",
              "    }\n",
              "\n",
              "    [theme=dark] .colab-df-convert {\n",
              "      background-color: #3B4455;\n",
              "      fill: #D2E3FC;\n",
              "    }\n",
              "\n",
              "    [theme=dark] .colab-df-convert:hover {\n",
              "      background-color: #434B5C;\n",
              "      box-shadow: 0px 1px 3px 1px rgba(0, 0, 0, 0.15);\n",
              "      filter: drop-shadow(0px 1px 2px rgba(0, 0, 0, 0.3));\n",
              "      fill: #FFFFFF;\n",
              "    }\n",
              "  </style>\n",
              "\n",
              "      <script>\n",
              "        const buttonEl =\n",
              "          document.querySelector('#df-e565d3ed-6164-4728-8da0-1c9ea682bf6e button.colab-df-convert');\n",
              "        buttonEl.style.display =\n",
              "          google.colab.kernel.accessAllowed ? 'block' : 'none';\n",
              "\n",
              "        async function convertToInteractive(key) {\n",
              "          const element = document.querySelector('#df-e565d3ed-6164-4728-8da0-1c9ea682bf6e');\n",
              "          const dataTable =\n",
              "            await google.colab.kernel.invokeFunction('convertToInteractive',\n",
              "                                                     [key], {});\n",
              "          if (!dataTable) return;\n",
              "\n",
              "          const docLinkHtml = 'Like what you see? Visit the ' +\n",
              "            '<a target=\"_blank\" href=https://colab.research.google.com/notebooks/data_table.ipynb>data table notebook</a>'\n",
              "            + ' to learn more about interactive tables.';\n",
              "          element.innerHTML = '';\n",
              "          dataTable['output_type'] = 'display_data';\n",
              "          await google.colab.output.renderOutput(dataTable, element);\n",
              "          const docLink = document.createElement('div');\n",
              "          docLink.innerHTML = docLinkHtml;\n",
              "          element.appendChild(docLink);\n",
              "        }\n",
              "      </script>\n",
              "    </div>\n",
              "  </div>\n",
              "  "
            ]
          },
          "metadata": {},
          "execution_count": 14
        }
      ]
    },
    {
      "cell_type": "code",
      "source": [
        "df['pos']=df['package_name'].apply(lambda x : 1 if x=='pos' else 0)"
      ],
      "metadata": {
        "id": "6-T8aKrqdl5o"
      },
      "execution_count": 11,
      "outputs": []
    },
    {
      "cell_type": "code",
      "source": [
        "from sklearn.model_selection import train_test_split\n",
        "X_train, X_test, y_train, y_test = train_test_split(df.review,df.pos)"
      ],
      "metadata": {
        "id": "245vntWUeoLi"
      },
      "execution_count": 12,
      "outputs": []
    },
    {
      "cell_type": "code",
      "source": [
        "from sklearn.feature_extraction.text import CountVectorizer\n",
        "v = CountVectorizer()\n",
        "X_train_count = v.fit_transform(X_train.values)\n",
        "X_train_count.toarray()[:2]"
      ],
      "metadata": {
        "colab": {
          "base_uri": "https://localhost:8080/"
        },
        "id": "41w9wkPleoOW",
        "outputId": "01d2e75b-544d-4f35-c0aa-9a6c44c74642"
      },
      "execution_count": 13,
      "outputs": [
        {
          "output_type": "execute_result",
          "data": {
            "text/plain": [
              "array([[0, 0, 0, ..., 0, 0, 0],\n",
              "       [0, 0, 0, ..., 0, 0, 0]])"
            ]
          },
          "metadata": {},
          "execution_count": 13
        }
      ]
    },
    {
      "cell_type": "code",
      "source": [
        "text = ['angry birds is soo great to play', 'adobe is putting so many ads', 'messenger issues ever since the last update',\n",
        "'needs an actual update! twitter slows down', 'many issues with account creation']\n",
        "coun_vect = CountVectorizer()\n",
        "count_matrix = coun_vect.fit_transform(text)\n",
        "count_array = count_matrix.toarray()\n",
        "df = pd.DataFrame(data=count_array,columns = coun_vect.get_feature_names())\n",
        "print(df)"
      ],
      "metadata": {
        "colab": {
          "base_uri": "https://localhost:8080/"
        },
        "id": "Duj2cKqme3wo",
        "outputId": "7cde368a-9b0e-4144-cb9f-fc1f272b8d71"
      },
      "execution_count": 15,
      "outputs": [
        {
          "output_type": "stream",
          "name": "stdout",
          "text": [
            "   account  actual  adobe  ads  an  angry  birds  creation  down  ever  ...  \\\n",
            "0        0       0      0    0   0      1      1         0     0     0  ...   \n",
            "1        0       0      1    1   0      0      0         0     0     0  ...   \n",
            "2        0       0      0    0   0      0      0         0     0     1  ...   \n",
            "3        0       1      0    0   1      0      0         0     1     0  ...   \n",
            "4        1       0      0    0   0      0      0         1     0     0  ...   \n",
            "\n",
            "   putting  since  slows  so  soo  the  to  twitter  update  with  \n",
            "0        0      0      0   0    1    0   1        0       0     0  \n",
            "1        1      0      0   1    0    0   0        0       0     0  \n",
            "2        0      1      0   0    0    1   0        0       1     0  \n",
            "3        0      0      1   0    0    0   0        1       1     0  \n",
            "4        0      0      0   0    0    0   0        0       0     1  \n",
            "\n",
            "[5 rows x 28 columns]\n"
          ]
        },
        {
          "output_type": "stream",
          "name": "stderr",
          "text": [
            "/usr/local/lib/python3.8/dist-packages/sklearn/utils/deprecation.py:87: FutureWarning: Function get_feature_names is deprecated; get_feature_names is deprecated in 1.0 and will be removed in 1.2. Please use get_feature_names_out instead.\n",
            "  warnings.warn(msg, category=FutureWarning)\n"
          ]
        }
      ]
    },
    {
      "cell_type": "code",
      "source": [
        "from sklearn.naive_bayes import MultinomialNB\n",
        "model = MultinomialNB()\n",
        "model.fit(X_train_count,y_train)"
      ],
      "metadata": {
        "colab": {
          "base_uri": "https://localhost:8080/"
        },
        "id": "6INvdLj6fChb",
        "outputId": "72e1cd94-89bb-434e-dd29-e0e604509831"
      },
      "execution_count": 16,
      "outputs": [
        {
          "output_type": "execute_result",
          "data": {
            "text/plain": [
              "MultinomialNB()"
            ]
          },
          "metadata": {},
          "execution_count": 16
        }
      ]
    },
    {
      "cell_type": "code",
      "source": [
        "apps = ['com.facebook.katana','com.twitter.android']\n",
        "apps_count = v.transform(apps)\n",
        "model.predict(apps_count)"
      ],
      "metadata": {
        "colab": {
          "base_uri": "https://localhost:8080/"
        },
        "id": "qEGC9QQDfC5p",
        "outputId": "f6c977e3-a864-4626-9485-bfb486b8d2ef"
      },
      "execution_count": 20,
      "outputs": [
        {
          "output_type": "execute_result",
          "data": {
            "text/plain": [
              "array([0, 0])"
            ]
          },
          "metadata": {},
          "execution_count": 20
        }
      ]
    },
    {
      "cell_type": "code",
      "source": [
        "X_test_count = v.transform(X_test)\n",
        "model.score(X_test_count, y_test)"
      ],
      "metadata": {
        "colab": {
          "base_uri": "https://localhost:8080/"
        },
        "id": "tb1RG6AjfDAp",
        "outputId": "e7735552-0f06-4820-bdf5-7919656cc5c4"
      },
      "execution_count": 21,
      "outputs": [
        {
          "output_type": "execute_result",
          "data": {
            "text/plain": [
              "1.0"
            ]
          },
          "metadata": {},
          "execution_count": 21
        }
      ]
    },
    {
      "cell_type": "code",
      "source": [
        "from sklearn.pipeline import Pipeline\n",
        "clf = Pipeline([('vectorizer', CountVectorizer()),('nb', MultinomialNB())])"
      ],
      "metadata": {
        "id": "ahe0gkSggjGG"
      },
      "execution_count": 22,
      "outputs": []
    },
    {
      "cell_type": "code",
      "source": [
        "clf.fit(X_train, y_train)"
      ],
      "metadata": {
        "colab": {
          "base_uri": "https://localhost:8080/"
        },
        "id": "i4WPPSDigp1l",
        "outputId": "8c0a034b-e800-48c1-910f-090be3560559"
      },
      "execution_count": 23,
      "outputs": [
        {
          "output_type": "execute_result",
          "data": {
            "text/plain": [
              "Pipeline(steps=[('vectorizer', CountVectorizer()), ('nb', MultinomialNB())])"
            ]
          },
          "metadata": {},
          "execution_count": 23
        }
      ]
    },
    {
      "cell_type": "code",
      "source": [
        "clf.score(X_test,y_test)"
      ],
      "metadata": {
        "colab": {
          "base_uri": "https://localhost:8080/"
        },
        "id": "pdlAqfXKgp4J",
        "outputId": "f302d11a-aa9a-4709-ec51-d6c922441762"
      },
      "execution_count": 24,
      "outputs": [
        {
          "output_type": "execute_result",
          "data": {
            "text/plain": [
              "1.0"
            ]
          },
          "metadata": {},
          "execution_count": 24
        }
      ]
    },
    {
      "cell_type": "code",
      "source": [
        "clf.predict(apps)"
      ],
      "metadata": {
        "colab": {
          "base_uri": "https://localhost:8080/"
        },
        "id": "IbsSnOh2gp6x",
        "outputId": "8f088b56-a4bd-4fee-ae7c-4bb55b772e94"
      },
      "execution_count": 26,
      "outputs": [
        {
          "output_type": "execute_result",
          "data": {
            "text/plain": [
              "array([0, 0])"
            ]
          },
          "metadata": {},
          "execution_count": 26
        }
      ]
    }
  ]
}