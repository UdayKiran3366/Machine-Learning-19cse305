{
  "cells": [
    {
      "cell_type": "code",
      "execution_count": 1,
      "metadata": {
        "id": "S3iE4efoOGz0"
      },
      "outputs": [],
      "source": [
        "from google.colab import files\n",
        "import pandas as pd"
      ]
    },
    {
      "cell_type": "code",
      "execution_count": 2,
      "metadata": {
        "colab": {
          "base_uri": "https://localhost:8080/",
          "height": 128
        },
        "id": "qteAqM5BObj8",
        "outputId": "2e54ecc1-a1c6-405f-f916-34dd0251323a"
      },
      "outputs": [
        {
          "output_type": "display_data",
          "data": {
            "text/plain": [
              "<IPython.core.display.HTML object>"
            ],
            "text/html": [
              "\n",
              "     <input type=\"file\" id=\"files-edaddbbd-7c54-43c4-b1df-d2a8bdc8dcb8\" name=\"files[]\" multiple disabled\n",
              "        style=\"border:none\" />\n",
              "     <output id=\"result-edaddbbd-7c54-43c4-b1df-d2a8bdc8dcb8\">\n",
              "      Upload widget is only available when the cell has been executed in the\n",
              "      current browser session. Please rerun this cell to enable.\n",
              "      </output>\n",
              "      <script>// Copyright 2017 Google LLC\n",
              "//\n",
              "// Licensed under the Apache License, Version 2.0 (the \"License\");\n",
              "// you may not use this file except in compliance with the License.\n",
              "// You may obtain a copy of the License at\n",
              "//\n",
              "//      http://www.apache.org/licenses/LICENSE-2.0\n",
              "//\n",
              "// Unless required by applicable law or agreed to in writing, software\n",
              "// distributed under the License is distributed on an \"AS IS\" BASIS,\n",
              "// WITHOUT WARRANTIES OR CONDITIONS OF ANY KIND, either express or implied.\n",
              "// See the License for the specific language governing permissions and\n",
              "// limitations under the License.\n",
              "\n",
              "/**\n",
              " * @fileoverview Helpers for google.colab Python module.\n",
              " */\n",
              "(function(scope) {\n",
              "function span(text, styleAttributes = {}) {\n",
              "  const element = document.createElement('span');\n",
              "  element.textContent = text;\n",
              "  for (const key of Object.keys(styleAttributes)) {\n",
              "    element.style[key] = styleAttributes[key];\n",
              "  }\n",
              "  return element;\n",
              "}\n",
              "\n",
              "// Max number of bytes which will be uploaded at a time.\n",
              "const MAX_PAYLOAD_SIZE = 100 * 1024;\n",
              "\n",
              "function _uploadFiles(inputId, outputId) {\n",
              "  const steps = uploadFilesStep(inputId, outputId);\n",
              "  const outputElement = document.getElementById(outputId);\n",
              "  // Cache steps on the outputElement to make it available for the next call\n",
              "  // to uploadFilesContinue from Python.\n",
              "  outputElement.steps = steps;\n",
              "\n",
              "  return _uploadFilesContinue(outputId);\n",
              "}\n",
              "\n",
              "// This is roughly an async generator (not supported in the browser yet),\n",
              "// where there are multiple asynchronous steps and the Python side is going\n",
              "// to poll for completion of each step.\n",
              "// This uses a Promise to block the python side on completion of each step,\n",
              "// then passes the result of the previous step as the input to the next step.\n",
              "function _uploadFilesContinue(outputId) {\n",
              "  const outputElement = document.getElementById(outputId);\n",
              "  const steps = outputElement.steps;\n",
              "\n",
              "  const next = steps.next(outputElement.lastPromiseValue);\n",
              "  return Promise.resolve(next.value.promise).then((value) => {\n",
              "    // Cache the last promise value to make it available to the next\n",
              "    // step of the generator.\n",
              "    outputElement.lastPromiseValue = value;\n",
              "    return next.value.response;\n",
              "  });\n",
              "}\n",
              "\n",
              "/**\n",
              " * Generator function which is called between each async step of the upload\n",
              " * process.\n",
              " * @param {string} inputId Element ID of the input file picker element.\n",
              " * @param {string} outputId Element ID of the output display.\n",
              " * @return {!Iterable<!Object>} Iterable of next steps.\n",
              " */\n",
              "function* uploadFilesStep(inputId, outputId) {\n",
              "  const inputElement = document.getElementById(inputId);\n",
              "  inputElement.disabled = false;\n",
              "\n",
              "  const outputElement = document.getElementById(outputId);\n",
              "  outputElement.innerHTML = '';\n",
              "\n",
              "  const pickedPromise = new Promise((resolve) => {\n",
              "    inputElement.addEventListener('change', (e) => {\n",
              "      resolve(e.target.files);\n",
              "    });\n",
              "  });\n",
              "\n",
              "  const cancel = document.createElement('button');\n",
              "  inputElement.parentElement.appendChild(cancel);\n",
              "  cancel.textContent = 'Cancel upload';\n",
              "  const cancelPromise = new Promise((resolve) => {\n",
              "    cancel.onclick = () => {\n",
              "      resolve(null);\n",
              "    };\n",
              "  });\n",
              "\n",
              "  // Wait for the user to pick the files.\n",
              "  const files = yield {\n",
              "    promise: Promise.race([pickedPromise, cancelPromise]),\n",
              "    response: {\n",
              "      action: 'starting',\n",
              "    }\n",
              "  };\n",
              "\n",
              "  cancel.remove();\n",
              "\n",
              "  // Disable the input element since further picks are not allowed.\n",
              "  inputElement.disabled = true;\n",
              "\n",
              "  if (!files) {\n",
              "    return {\n",
              "      response: {\n",
              "        action: 'complete',\n",
              "      }\n",
              "    };\n",
              "  }\n",
              "\n",
              "  for (const file of files) {\n",
              "    const li = document.createElement('li');\n",
              "    li.append(span(file.name, {fontWeight: 'bold'}));\n",
              "    li.append(span(\n",
              "        `(${file.type || 'n/a'}) - ${file.size} bytes, ` +\n",
              "        `last modified: ${\n",
              "            file.lastModifiedDate ? file.lastModifiedDate.toLocaleDateString() :\n",
              "                                    'n/a'} - `));\n",
              "    const percent = span('0% done');\n",
              "    li.appendChild(percent);\n",
              "\n",
              "    outputElement.appendChild(li);\n",
              "\n",
              "    const fileDataPromise = new Promise((resolve) => {\n",
              "      const reader = new FileReader();\n",
              "      reader.onload = (e) => {\n",
              "        resolve(e.target.result);\n",
              "      };\n",
              "      reader.readAsArrayBuffer(file);\n",
              "    });\n",
              "    // Wait for the data to be ready.\n",
              "    let fileData = yield {\n",
              "      promise: fileDataPromise,\n",
              "      response: {\n",
              "        action: 'continue',\n",
              "      }\n",
              "    };\n",
              "\n",
              "    // Use a chunked sending to avoid message size limits. See b/62115660.\n",
              "    let position = 0;\n",
              "    do {\n",
              "      const length = Math.min(fileData.byteLength - position, MAX_PAYLOAD_SIZE);\n",
              "      const chunk = new Uint8Array(fileData, position, length);\n",
              "      position += length;\n",
              "\n",
              "      const base64 = btoa(String.fromCharCode.apply(null, chunk));\n",
              "      yield {\n",
              "        response: {\n",
              "          action: 'append',\n",
              "          file: file.name,\n",
              "          data: base64,\n",
              "        },\n",
              "      };\n",
              "\n",
              "      let percentDone = fileData.byteLength === 0 ?\n",
              "          100 :\n",
              "          Math.round((position / fileData.byteLength) * 100);\n",
              "      percent.textContent = `${percentDone}% done`;\n",
              "\n",
              "    } while (position < fileData.byteLength);\n",
              "  }\n",
              "\n",
              "  // All done.\n",
              "  yield {\n",
              "    response: {\n",
              "      action: 'complete',\n",
              "    }\n",
              "  };\n",
              "}\n",
              "\n",
              "scope.google = scope.google || {};\n",
              "scope.google.colab = scope.google.colab || {};\n",
              "scope.google.colab._files = {\n",
              "  _uploadFiles,\n",
              "  _uploadFilesContinue,\n",
              "};\n",
              "})(self);\n",
              "</script> "
            ]
          },
          "metadata": {}
        },
        {
          "output_type": "stream",
          "name": "stdout",
          "text": [
            "Saving heart_v2.csv to heart_v2.csv\n"
          ]
        },
        {
          "output_type": "execute_result",
          "data": {
            "text/plain": [
              "{'heart_v2.csv': b'age,sex,BP,cholestrol,heart disease\\r\\n70,1,130,322,1\\r\\n67,0,115,564,0\\r\\n57,1,124,261,1\\r\\n64,1,128,263,0\\r\\n74,0,120,269,0\\r\\n65,1,120,177,0\\r\\n56,1,130,256,1\\r\\n59,1,110,239,1\\r\\n60,1,140,293,1\\r\\n63,0,150,407,1\\r\\n59,1,135,234,0\\r\\n53,1,142,226,0\\r\\n44,1,140,235,0\\r\\n61,1,134,234,1\\r\\n57,0,128,303,0\\r\\n71,0,112,149,0\\r\\n46,1,140,311,1\\r\\n53,1,140,203,1\\r\\n64,1,110,211,0\\r\\n40,1,140,199,0\\r\\n67,1,120,229,1\\r\\n48,1,130,245,0\\r\\n43,1,115,303,0\\r\\n47,1,112,204,0\\r\\n54,0,132,288,0\\r\\n48,0,130,275,0\\r\\n46,0,138,243,0\\r\\n51,0,120,295,0\\r\\n58,1,112,230,1\\r\\n71,0,110,265,0\\r\\n57,1,128,229,1\\r\\n66,1,160,228,0\\r\\n37,0,120,215,0\\r\\n59,1,170,326,1\\r\\n50,1,144,200,1\\r\\n48,1,130,256,1\\r\\n61,1,140,207,1\\r\\n59,1,160,273,1\\r\\n42,1,130,180,0\\r\\n48,1,122,222,0\\r\\n40,1,152,223,1\\r\\n62,0,124,209,0\\r\\n44,1,130,233,0\\r\\n46,1,101,197,0\\r\\n59,1,126,218,1\\r\\n58,1,140,211,0\\r\\n49,1,118,149,1\\r\\n44,1,110,197,1\\r\\n66,1,160,246,1\\r\\n65,0,150,225,1\\r\\n42,1,136,315,1\\r\\n52,1,128,205,0\\r\\n65,0,140,417,0\\r\\n63,0,140,195,0\\r\\n45,0,130,234,0\\r\\n41,0,105,198,0\\r\\n61,1,138,166,1\\r\\n60,0,120,178,0\\r\\n59,0,174,249,1\\r\\n62,1,120,281,1\\r\\n57,1,150,126,0\\r\\n51,0,130,305,1\\r\\n44,1,120,226,0\\r\\n60,0,150,240,0\\r\\n63,1,145,233,0\\r\\n57,1,150,276,1\\r\\n51,1,140,261,0\\r\\n58,0,136,319,1\\r\\n44,0,118,242,0\\r\\n47,1,108,243,1\\r\\n61,1,120,260,1\\r\\n57,0,120,354,0\\r\\n70,1,156,245,0\\r\\n76,0,140,197,0\\r\\n67,0,106,223,0\\r\\n45,1,142,309,1\\r\\n45,1,104,208,0\\r\\n39,0,94,199,0\\r\\n42,0,120,209,0\\r\\n56,1,120,236,0\\r\\n58,1,146,218,1\\r\\n35,1,120,198,1\\r\\n58,1,150,270,1\\r\\n41,1,130,214,0\\r\\n57,1,110,201,0\\r\\n42,1,148,244,0\\r\\n62,1,128,208,0\\r\\n59,1,178,270,0\\r\\n41,0,126,306,0\\r\\n50,1,150,243,1\\r\\n59,1,140,221,0\\r\\n61,0,130,330,1\\r\\n54,1,124,266,1\\r\\n54,1,110,206,1\\r\\n52,1,125,212,1\\r\\n47,1,110,275,1\\r\\n66,1,120,302,0\\r\\n58,1,100,234,1\\r\\n64,0,140,313,0\\r\\n50,0,120,244,0\\r\\n44,0,108,141,0\\r\\n67,1,120,237,1\\r\\n49,0,130,269,0\\r\\n57,1,165,289,1\\r\\n63,1,130,254,1\\r\\n48,1,124,274,1\\r\\n51,1,100,222,0\\r\\n60,0,150,258,1\\r\\n59,1,140,177,1\\r\\n45,0,112,160,0\\r\\n55,0,180,327,1\\r\\n41,1,110,235,0\\r\\n60,0,158,305,1\\r\\n54,0,135,304,0\\r\\n42,1,120,295,0\\r\\n49,0,134,271,0\\r\\n46,1,120,249,1\\r\\n56,0,200,288,1\\r\\n66,0,150,226,0\\r\\n56,1,130,283,1\\r\\n49,1,120,188,1\\r\\n54,1,122,286,1\\r\\n57,1,152,274,1\\r\\n65,0,160,360,0\\r\\n54,1,125,273,0\\r\\n54,0,160,201,0\\r\\n62,1,120,267,1\\r\\n52,0,136,196,0\\r\\n52,1,134,201,0\\r\\n60,1,117,230,1\\r\\n63,0,108,269,1\\r\\n66,1,112,212,1\\r\\n42,1,140,226,0\\r\\n64,1,120,246,1\\r\\n54,1,150,232,0\\r\\n46,0,142,177,0\\r\\n67,0,152,277,0\\r\\n56,1,125,249,1\\r\\n34,0,118,210,0\\r\\n57,1,132,207,0\\r\\n64,1,145,212,1\\r\\n59,1,138,271,0\\r\\n50,1,140,233,1\\r\\n51,1,125,213,0\\r\\n54,1,192,283,1\\r\\n53,1,123,282,1\\r\\n52,1,112,230,1\\r\\n40,1,110,167,1\\r\\n58,1,132,224,1\\r\\n41,0,112,268,0\\r\\n41,1,112,250,0\\r\\n50,0,120,219,0\\r\\n54,0,108,267,0\\r\\n64,0,130,303,0\\r\\n51,0,130,256,0\\r\\n46,0,105,204,0\\r\\n55,1,140,217,1\\r\\n45,1,128,308,0\\r\\n56,1,120,193,0\\r\\n66,0,178,228,1\\r\\n38,1,120,231,1\\r\\n62,0,150,244,1\\r\\n55,1,130,262,0\\r\\n58,1,128,259,1\\r\\n43,1,110,211,0\\r\\n64,0,180,325,0\\r\\n50,0,110,254,0\\r\\n53,1,130,197,0\\r\\n45,0,138,236,0\\r\\n65,1,138,282,1\\r\\n69,1,160,234,0\\r\\n69,1,140,254,1\\r\\n67,1,100,299,1\\r\\n68,0,120,211,0\\r\\n34,1,118,182,0\\r\\n62,0,138,294,1\\r\\n51,1,140,298,1\\r\\n46,1,150,231,1\\r\\n67,1,125,254,1\\r\\n50,1,129,196,0\\r\\n42,1,120,240,0\\r\\n56,0,134,409,1\\r\\n41,1,110,172,1\\r\\n42,0,102,265,0\\r\\n53,1,130,246,0\\r\\n43,1,130,315,0\\r\\n56,1,132,184,1\\r\\n52,1,108,233,0\\r\\n62,0,140,394,0\\r\\n70,1,160,269,1\\r\\n54,1,140,239,0\\r\\n70,1,145,174,1\\r\\n54,1,108,309,0\\r\\n35,1,126,282,1\\r\\n48,1,124,255,0\\r\\n55,0,135,250,0\\r\\n58,0,100,248,0\\r\\n54,0,110,214,0\\r\\n69,0,140,239,0\\r\\n77,1,125,304,1\\r\\n68,1,118,277,0\\r\\n58,1,125,300,1\\r\\n60,1,125,258,1\\r\\n51,1,140,299,1\\r\\n55,1,160,289,1\\r\\n52,1,152,298,0\\r\\n60,0,102,318,0\\r\\n58,1,105,240,0\\r\\n64,1,125,309,1\\r\\n37,1,130,250,0\\r\\n59,1,170,288,1\\r\\n51,1,125,245,0\\r\\n43,0,122,213,0\\r\\n58,1,128,216,1\\r\\n29,1,130,204,0\\r\\n41,0,130,204,0\\r\\n63,0,135,252,0\\r\\n51,1,94,227,0\\r\\n54,1,120,258,0\\r\\n44,1,120,220,0\\r\\n54,1,110,239,1\\r\\n65,1,135,254,1\\r\\n57,1,150,168,0\\r\\n63,1,130,330,1\\r\\n35,0,138,183,0\\r\\n41,1,135,203,0\\r\\n62,0,130,263,1\\r\\n43,0,132,341,1\\r\\n58,0,150,283,0\\r\\n52,1,118,186,0\\r\\n61,0,145,307,1\\r\\n39,1,118,219,1\\r\\n45,1,115,260,0\\r\\n52,1,128,255,1\\r\\n62,1,130,231,0\\r\\n62,0,160,164,1\\r\\n53,0,138,234,0\\r\\n43,1,120,177,1\\r\\n47,1,138,257,0\\r\\n52,1,120,325,0\\r\\n68,1,180,274,1\\r\\n39,1,140,321,0\\r\\n53,0,130,264,0\\r\\n62,0,140,268,1\\r\\n51,0,140,308,0\\r\\n60,1,130,253,1\\r\\n65,1,110,248,1\\r\\n65,0,155,269,0\\r\\n60,1,140,185,1\\r\\n60,1,145,282,1\\r\\n54,1,120,188,1\\r\\n44,1,130,219,0\\r\\n44,1,112,290,1\\r\\n51,1,110,175,0\\r\\n59,1,150,212,0\\r\\n71,0,160,302,0\\r\\n61,1,150,243,0\\r\\n55,1,132,353,1\\r\\n64,1,140,335,1\\r\\n43,1,150,247,0\\r\\n58,0,120,340,0\\r\\n60,1,130,206,1\\r\\n58,1,120,284,1\\r\\n49,1,130,266,0\\r\\n48,1,110,229,1\\r\\n52,1,172,199,0\\r\\n44,1,120,263,0\\r\\n56,0,140,294,0\\r\\n57,1,140,192,0\\r\\n67,1,160,286,1\\r\\n'}"
            ]
          },
          "metadata": {},
          "execution_count": 2
        }
      ],
      "source": [
        "files.upload()"
      ]
    },
    {
      "cell_type": "code",
      "execution_count": 3,
      "metadata": {
        "colab": {
          "base_uri": "https://localhost:8080/"
        },
        "id": "ZCmZ-NCOaLjr",
        "outputId": "f3f62241-6688-4c5c-a0f5-b50488f4a07e"
      },
      "outputs": [
        {
          "output_type": "stream",
          "name": "stdout",
          "text": [
            "cp: cannot stat '/content/kaggle.json': No such file or directory\n",
            "chmod: cannot access '/root/.kaggle/kaggle.json': No such file or directory\n"
          ]
        }
      ],
      "source": [
        "!mkdir ~/.kaggle\n",
        "!cp /content/kaggle.json ~/.kaggle/\n",
        "!chmod 600 ~/.kaggle/kaggle.json"
      ]
    },
    {
      "cell_type": "code",
      "execution_count": 4,
      "metadata": {
        "id": "hHw1XHRea8en",
        "colab": {
          "base_uri": "https://localhost:8080/"
        },
        "outputId": "cc49ab02-20d4-474d-c3f5-5dbdc540c8a4"
      },
      "outputs": [
        {
          "output_type": "stream",
          "name": "stdout",
          "text": [
            "Traceback (most recent call last):\n",
            "  File \"/usr/local/bin/kaggle\", line 5, in <module>\n",
            "    from kaggle.cli import main\n",
            "  File \"/usr/local/lib/python3.8/dist-packages/kaggle/__init__.py\", line 23, in <module>\n",
            "    api.authenticate()\n",
            "  File \"/usr/local/lib/python3.8/dist-packages/kaggle/api/kaggle_api_extended.py\", line 164, in authenticate\n",
            "    raise IOError('Could not find {}. Make sure it\\'s located in'\n",
            "OSError: Could not find kaggle.json. Make sure it's located in /root/.kaggle. Or use the environment method.\n"
          ]
        }
      ],
      "source": [
        "!kaggle competitions list"
      ]
    },
    {
      "cell_type": "code",
      "execution_count": 5,
      "metadata": {
        "id": "32bqkHS5bCb3",
        "colab": {
          "base_uri": "https://localhost:8080/"
        },
        "outputId": "54efee35-900c-491e-ba7b-db4657de2359"
      },
      "outputs": [
        {
          "output_type": "stream",
          "name": "stdout",
          "text": [
            "Traceback (most recent call last):\n",
            "  File \"/usr/local/bin/kaggle\", line 5, in <module>\n",
            "    from kaggle.cli import main\n",
            "  File \"/usr/local/lib/python3.8/dist-packages/kaggle/__init__.py\", line 23, in <module>\n",
            "    api.authenticate()\n",
            "  File \"/usr/local/lib/python3.8/dist-packages/kaggle/api/kaggle_api_extended.py\", line 164, in authenticate\n",
            "    raise IOError('Could not find {}. Make sure it\\'s located in'\n",
            "OSError: Could not find kaggle.json. Make sure it's located in /root/.kaggle. Or use the environment method.\n"
          ]
        }
      ],
      "source": [
        "!kaggle datasets list"
      ]
    },
    {
      "cell_type": "code",
      "execution_count": 6,
      "metadata": {
        "id": "oH4fUFZQbqqW",
        "colab": {
          "base_uri": "https://localhost:8080/"
        },
        "outputId": "26dfb51d-a642-4e88-c11f-02a4d4876512"
      },
      "outputs": [
        {
          "output_type": "stream",
          "name": "stdout",
          "text": [
            "Traceback (most recent call last):\n",
            "  File \"/usr/local/bin/kaggle\", line 5, in <module>\n",
            "    from kaggle.cli import main\n",
            "  File \"/usr/local/lib/python3.8/dist-packages/kaggle/__init__.py\", line 23, in <module>\n",
            "    api.authenticate()\n",
            "  File \"/usr/local/lib/python3.8/dist-packages/kaggle/api/kaggle_api_extended.py\", line 164, in authenticate\n",
            "    raise IOError('Could not find {}. Make sure it\\'s located in'\n",
            "OSError: Could not find kaggle.json. Make sure it's located in /root/.kaggle. Or use the environment method.\n"
          ]
        }
      ],
      "source": [
        "!kaggle competitions download -c titanic"
      ]
    },
    {
      "cell_type": "code",
      "execution_count": 7,
      "metadata": {
        "id": "PBlZjYuKcdiL",
        "colab": {
          "base_uri": "https://localhost:8080/"
        },
        "outputId": "79364373-494b-4ba0-b92c-67e34d2519ae"
      },
      "outputs": [
        {
          "output_type": "stream",
          "name": "stdout",
          "text": [
            "Traceback (most recent call last):\n",
            "  File \"/usr/local/bin/kaggle\", line 5, in <module>\n",
            "    from kaggle.cli import main\n",
            "  File \"/usr/local/lib/python3.8/dist-packages/kaggle/__init__.py\", line 23, in <module>\n",
            "    api.authenticate()\n",
            "  File \"/usr/local/lib/python3.8/dist-packages/kaggle/api/kaggle_api_extended.py\", line 164, in authenticate\n",
            "    raise IOError('Could not find {}. Make sure it\\'s located in'\n",
            "OSError: Could not find kaggle.json. Make sure it's located in /root/.kaggle. Or use the environment method.\n"
          ]
        }
      ],
      "source": [
        "!kaggle datasets download totoro29/imdb-movies"
      ]
    },
    {
      "cell_type": "code",
      "execution_count": 11,
      "metadata": {
        "id": "hjx0RJAzctSb"
      },
      "outputs": [],
      "source": [
        "df = pd.read_csv(\"/content/heart_v2.csv\")"
      ]
    },
    {
      "cell_type": "code",
      "execution_count": 12,
      "metadata": {
        "id": "gwkTo6BidC39",
        "colab": {
          "base_uri": "https://localhost:8080/",
          "height": 206
        },
        "outputId": "e8f8a525-b28e-463b-cef6-1bd86e6115cb"
      },
      "outputs": [
        {
          "output_type": "execute_result",
          "data": {
            "text/plain": [
              "   age  sex   BP  cholestrol  heart disease\n",
              "0   70    1  130         322              1\n",
              "1   67    0  115         564              0\n",
              "2   57    1  124         261              1\n",
              "3   64    1  128         263              0\n",
              "4   74    0  120         269              0"
            ],
            "text/html": [
              "\n",
              "  <div id=\"df-b922f3b6-b79a-4af8-bb9c-81b5f7e1bd7f\">\n",
              "    <div class=\"colab-df-container\">\n",
              "      <div>\n",
              "<style scoped>\n",
              "    .dataframe tbody tr th:only-of-type {\n",
              "        vertical-align: middle;\n",
              "    }\n",
              "\n",
              "    .dataframe tbody tr th {\n",
              "        vertical-align: top;\n",
              "    }\n",
              "\n",
              "    .dataframe thead th {\n",
              "        text-align: right;\n",
              "    }\n",
              "</style>\n",
              "<table border=\"1\" class=\"dataframe\">\n",
              "  <thead>\n",
              "    <tr style=\"text-align: right;\">\n",
              "      <th></th>\n",
              "      <th>age</th>\n",
              "      <th>sex</th>\n",
              "      <th>BP</th>\n",
              "      <th>cholestrol</th>\n",
              "      <th>heart disease</th>\n",
              "    </tr>\n",
              "  </thead>\n",
              "  <tbody>\n",
              "    <tr>\n",
              "      <th>0</th>\n",
              "      <td>70</td>\n",
              "      <td>1</td>\n",
              "      <td>130</td>\n",
              "      <td>322</td>\n",
              "      <td>1</td>\n",
              "    </tr>\n",
              "    <tr>\n",
              "      <th>1</th>\n",
              "      <td>67</td>\n",
              "      <td>0</td>\n",
              "      <td>115</td>\n",
              "      <td>564</td>\n",
              "      <td>0</td>\n",
              "    </tr>\n",
              "    <tr>\n",
              "      <th>2</th>\n",
              "      <td>57</td>\n",
              "      <td>1</td>\n",
              "      <td>124</td>\n",
              "      <td>261</td>\n",
              "      <td>1</td>\n",
              "    </tr>\n",
              "    <tr>\n",
              "      <th>3</th>\n",
              "      <td>64</td>\n",
              "      <td>1</td>\n",
              "      <td>128</td>\n",
              "      <td>263</td>\n",
              "      <td>0</td>\n",
              "    </tr>\n",
              "    <tr>\n",
              "      <th>4</th>\n",
              "      <td>74</td>\n",
              "      <td>0</td>\n",
              "      <td>120</td>\n",
              "      <td>269</td>\n",
              "      <td>0</td>\n",
              "    </tr>\n",
              "  </tbody>\n",
              "</table>\n",
              "</div>\n",
              "      <button class=\"colab-df-convert\" onclick=\"convertToInteractive('df-b922f3b6-b79a-4af8-bb9c-81b5f7e1bd7f')\"\n",
              "              title=\"Convert this dataframe to an interactive table.\"\n",
              "              style=\"display:none;\">\n",
              "        \n",
              "  <svg xmlns=\"http://www.w3.org/2000/svg\" height=\"24px\"viewBox=\"0 0 24 24\"\n",
              "       width=\"24px\">\n",
              "    <path d=\"M0 0h24v24H0V0z\" fill=\"none\"/>\n",
              "    <path d=\"M18.56 5.44l.94 2.06.94-2.06 2.06-.94-2.06-.94-.94-2.06-.94 2.06-2.06.94zm-11 1L8.5 8.5l.94-2.06 2.06-.94-2.06-.94L8.5 2.5l-.94 2.06-2.06.94zm10 10l.94 2.06.94-2.06 2.06-.94-2.06-.94-.94-2.06-.94 2.06-2.06.94z\"/><path d=\"M17.41 7.96l-1.37-1.37c-.4-.4-.92-.59-1.43-.59-.52 0-1.04.2-1.43.59L10.3 9.45l-7.72 7.72c-.78.78-.78 2.05 0 2.83L4 21.41c.39.39.9.59 1.41.59.51 0 1.02-.2 1.41-.59l7.78-7.78 2.81-2.81c.8-.78.8-2.07 0-2.86zM5.41 20L4 18.59l7.72-7.72 1.47 1.35L5.41 20z\"/>\n",
              "  </svg>\n",
              "      </button>\n",
              "      \n",
              "  <style>\n",
              "    .colab-df-container {\n",
              "      display:flex;\n",
              "      flex-wrap:wrap;\n",
              "      gap: 12px;\n",
              "    }\n",
              "\n",
              "    .colab-df-convert {\n",
              "      background-color: #E8F0FE;\n",
              "      border: none;\n",
              "      border-radius: 50%;\n",
              "      cursor: pointer;\n",
              "      display: none;\n",
              "      fill: #1967D2;\n",
              "      height: 32px;\n",
              "      padding: 0 0 0 0;\n",
              "      width: 32px;\n",
              "    }\n",
              "\n",
              "    .colab-df-convert:hover {\n",
              "      background-color: #E2EBFA;\n",
              "      box-shadow: 0px 1px 2px rgba(60, 64, 67, 0.3), 0px 1px 3px 1px rgba(60, 64, 67, 0.15);\n",
              "      fill: #174EA6;\n",
              "    }\n",
              "\n",
              "    [theme=dark] .colab-df-convert {\n",
              "      background-color: #3B4455;\n",
              "      fill: #D2E3FC;\n",
              "    }\n",
              "\n",
              "    [theme=dark] .colab-df-convert:hover {\n",
              "      background-color: #434B5C;\n",
              "      box-shadow: 0px 1px 3px 1px rgba(0, 0, 0, 0.15);\n",
              "      filter: drop-shadow(0px 1px 2px rgba(0, 0, 0, 0.3));\n",
              "      fill: #FFFFFF;\n",
              "    }\n",
              "  </style>\n",
              "\n",
              "      <script>\n",
              "        const buttonEl =\n",
              "          document.querySelector('#df-b922f3b6-b79a-4af8-bb9c-81b5f7e1bd7f button.colab-df-convert');\n",
              "        buttonEl.style.display =\n",
              "          google.colab.kernel.accessAllowed ? 'block' : 'none';\n",
              "\n",
              "        async function convertToInteractive(key) {\n",
              "          const element = document.querySelector('#df-b922f3b6-b79a-4af8-bb9c-81b5f7e1bd7f');\n",
              "          const dataTable =\n",
              "            await google.colab.kernel.invokeFunction('convertToInteractive',\n",
              "                                                     [key], {});\n",
              "          if (!dataTable) return;\n",
              "\n",
              "          const docLinkHtml = 'Like what you see? Visit the ' +\n",
              "            '<a target=\"_blank\" href=https://colab.research.google.com/notebooks/data_table.ipynb>data table notebook</a>'\n",
              "            + ' to learn more about interactive tables.';\n",
              "          element.innerHTML = '';\n",
              "          dataTable['output_type'] = 'display_data';\n",
              "          await google.colab.output.renderOutput(dataTable, element);\n",
              "          const docLink = document.createElement('div');\n",
              "          docLink.innerHTML = docLinkHtml;\n",
              "          element.appendChild(docLink);\n",
              "        }\n",
              "      </script>\n",
              "    </div>\n",
              "  </div>\n",
              "  "
            ]
          },
          "metadata": {},
          "execution_count": 12
        }
      ],
      "source": [
        "df.head()"
      ]
    },
    {
      "cell_type": "code",
      "execution_count": 10,
      "metadata": {
        "id": "7Ppi0t94dm_B",
        "colab": {
          "base_uri": "https://localhost:8080/"
        },
        "outputId": "20597b52-eb20-4c4a-d3f9-1b6e3201799e"
      },
      "outputs": [
        {
          "output_type": "stream",
          "name": "stdout",
          "text": [
            "Traceback (most recent call last):\n",
            "  File \"/usr/local/bin/kaggle\", line 5, in <module>\n",
            "    from kaggle.cli import main\n",
            "  File \"/usr/local/lib/python3.8/dist-packages/kaggle/__init__.py\", line 23, in <module>\n",
            "    api.authenticate()\n",
            "  File \"/usr/local/lib/python3.8/dist-packages/kaggle/api/kaggle_api_extended.py\", line 164, in authenticate\n",
            "    raise IOError('Could not find {}. Make sure it\\'s located in'\n",
            "OSError: Could not find kaggle.json. Make sure it's located in /root/.kaggle. Or use the environment method.\n"
          ]
        }
      ],
      "source": [
        "!kaggle competitions submit -c titanic -f /content/titanic.zip -m test_submission_1"
      ]
    }
  ],
  "metadata": {
    "colab": {
      "provenance": []
    },
    "kernelspec": {
      "display_name": "Python 3",
      "name": "python3"
    },
    "language_info": {
      "name": "python"
    }
  },
  "nbformat": 4,
  "nbformat_minor": 0
}